{
  "nbformat": 4,
  "nbformat_minor": 0,
  "metadata": {
    "colab": {
      "provenance": [],
      "authorship_tag": "ABX9TyO+ASVKcqW8S1Iltyj/wMPu",
      "include_colab_link": true
    },
    "kernelspec": {
      "name": "python3",
      "display_name": "Python 3"
    },
    "language_info": {
      "name": "python"
    }
  },
  "cells": [
    {
      "cell_type": "markdown",
      "metadata": {
        "id": "view-in-github",
        "colab_type": "text"
      },
      "source": [
        "<a href=\"https://colab.research.google.com/github/sairamnst/dnt-recruitment/blob/main/reversevideoslowmotion.ipynb\" target=\"_parent\"><img src=\"https://colab.research.google.com/assets/colab-badge.svg\" alt=\"Open In Colab\"/></a>"
      ]
    },
    {
      "cell_type": "code",
      "source": [
        "import cv2\n",
        "import numpy as np\n",
        "import os\n",
        "from google.colab.patches import cv2_imshow\n",
        "cap = cv2.VideoCapture(\"/content/sample_data/bullet_watermelon.mp4\")\n",
        "check , vid = cap.read()\n",
        "counter = 0\n",
        "check = True\n",
        "\n",
        "frame_list = []\n",
        "while(check == True):\n",
        "    cv2.imwrite(\"frame%d.jpg\" %counter , vid)\n",
        "    check , vid = cap.read()\n",
        "    frame_list.append(vid)\n",
        "    counter += 1\n",
        "frame_list.pop()\n",
        "frame_list.reverse()\n",
        "\n",
        "height = int(cap.get(cv2.CAP_PROP_FRAME_HEIGHT))\n",
        "width = int(cap.get(cv2.CAP_PROP_FRAME_WIDTH))\n",
        "fps = cap.get(cv2.CAP_PROP_FPS)\n",
        "\n",
        "path = \"SlowedVideo.mp4\"\n",
        "fourcc = cv2.VideoWriter_fourcc(*'mp4v')\n",
        "output = cv2.VideoWriter(path, fourcc, 5,\n",
        "                         (width, height))\n",
        "flag=0\n",
        "while True:\n",
        "    frame = frame_list[flag]\n",
        "    flag+=1\n",
        "    output.write(frame)\n",
        "    k = cv2.waitKey(24)\n",
        "    if k == ord(\"q\") or flag==len(frame_list):\n",
        "        break\n",
        "\n",
        "cap.release()\n",
        "output.release()\n",
        "cv2.destroyAllWindows()"
      ],
      "metadata": {
        "id": "a2DOrx2xqk0l"
      },
      "execution_count": 15,
      "outputs": []
    }
  ]
}