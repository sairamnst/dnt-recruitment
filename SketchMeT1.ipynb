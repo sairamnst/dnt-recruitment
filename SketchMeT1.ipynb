import numpy as np
import cv2 as cv
from matplotlib import pyplot as plt
img = cv.imread('/content/thug duck.jpeg', cv.IMREAD_GRAYSCALE)
edges = cv.Canny(img,100,200)
plt.subplot(121),plt.imshow(img,cmap = 'gray')
plt.subplot(122),plt.imshow(edges,cmap = 'gray')
plt.show()
